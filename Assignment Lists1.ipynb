{
 "cells": [
  {
   "cell_type": "code",
   "execution_count": 1,
   "id": "7e29d4b5",
   "metadata": {},
   "outputs": [
    {
     "name": "stdout",
     "output_type": "stream",
     "text": [
      "[]\n"
     ]
    }
   ],
   "source": [
    "# 1. clear()\n",
    "my_list = [10, 20, 30]\n",
    "my_list.clear()\n",
    "print(my_list) # removes all elements from the list. "
   ]
  },
  {
   "cell_type": "code",
   "execution_count": 2,
   "id": "a0084ba8",
   "metadata": {},
   "outputs": [
    {
     "name": "stdout",
     "output_type": "stream",
     "text": [
      "[1, 2, 3, 4, 5]\n"
     ]
    }
   ],
   "source": [
    "# 2. extend()\n",
    "my_list = [1, 2, 3]\n",
    "other_list = [4, 5]\n",
    "my_list.extend(other_list)\n",
    "print(my_list) # extends the list by adding elements from another list. "
   ]
  },
  {
   "cell_type": "code",
   "execution_count": 3,
   "id": "1df2780f",
   "metadata": {},
   "outputs": [
    {
     "name": "stdout",
     "output_type": "stream",
     "text": [
      "[40, 10, 20, 30]\n"
     ]
    }
   ],
   "source": [
    "# 3. insert()\n",
    "my_list = [10, 20, 30]\n",
    "my_list.insert(0, 40)\n",
    "print(my_list)  #  inserts an element at the specified index in the list."
   ]
  },
  {
   "cell_type": "code",
   "execution_count": 4,
   "id": "9f51c505",
   "metadata": {},
   "outputs": [
    {
     "name": "stdout",
     "output_type": "stream",
     "text": [
      "[10, 20, 30]\n"
     ]
    }
   ],
   "source": [
    "# 4. copy()\n",
    "my_list = [10, 20, 30]\n",
    "new_list = my_list.copy()\n",
    "print(new_list)  # creates a copy of the list.\n"
   ]
  },
  {
   "cell_type": "code",
   "execution_count": 5,
   "id": "9b7aeba9",
   "metadata": {},
   "outputs": [
    {
     "name": "stdout",
     "output_type": "stream",
     "text": [
      "[13, 14, 15]\n"
     ]
    }
   ],
   "source": [
    "# 5. reverse()\n",
    "my_list = [15, 14, 13]\n",
    "my_list.reverse()\n",
    "print(my_list)  # reverses the order of the elements in the list."
   ]
  },
  {
   "cell_type": "code",
   "execution_count": 6,
   "id": "6353c3df",
   "metadata": {},
   "outputs": [
    {
     "name": "stdout",
     "output_type": "stream",
     "text": [
      "30\n"
     ]
    }
   ],
   "source": [
    " # 6. max()\n",
    "my_list = [30, 15, 25]\n",
    "maximum = max(my_list) \n",
    "print(maximum)\n",
    "# return the maximum element in the list.\n",
    "\n",
    "\n"
   ]
  },
  {
   "cell_type": "code",
   "execution_count": 7,
   "id": "fed7120d",
   "metadata": {},
   "outputs": [
    {
     "name": "stdout",
     "output_type": "stream",
     "text": [
      "[2, 3, 10]\n"
     ]
    }
   ],
   "source": [
    " \n",
    "# 7. remove()\n",
    "my_list = [1, 2, 3, 10]\n",
    "my_list.remove(1)\n",
    "print(my_list) # removes the first occurrence of a specified element from the list. \n"
   ]
  },
  {
   "cell_type": "code",
   "execution_count": 8,
   "id": "9ea41f50",
   "metadata": {},
   "outputs": [
    {
     "name": "stdout",
     "output_type": "stream",
     "text": [
      "10\n"
     ]
    }
   ],
   "source": [
    "\n",
    "# 8. min()\n",
    "my_list = [13, 10, 22]\n",
    "minimum = min(my_list)\n",
    "print(minimum) \n",
    "#  return the minimum element in the list."
   ]
  },
  {
   "cell_type": "code",
   "execution_count": 9,
   "id": "ef60c2fa",
   "metadata": {},
   "outputs": [
    {
     "name": "stdout",
     "output_type": "stream",
     "text": [
      "1\n"
     ]
    }
   ],
   "source": [
    "# 9. index()\n",
    "my_list = [10, 20, 30, 11, 11]\n",
    "index = my_list.index(20)\n",
    "print(index)  # returns the index of the first occurrence of a specified element in the list.\n"
   ]
  },
  {
   "cell_type": "code",
   "execution_count": 10,
   "id": "5c3aa8f9",
   "metadata": {},
   "outputs": [
    {
     "name": "stdout",
     "output_type": "stream",
     "text": [
      "[10, 20, 30, 'snist']\n"
     ]
    }
   ],
   "source": [
    "#10.append()\n",
    "my_list=[10,20,30]\n",
    "my_list.append(\"snist\")\n",
    "print(my_list)#elements add at the end of the list"
   ]
  },
  {
   "cell_type": "code",
   "execution_count": 11,
   "id": "30eec9ed",
   "metadata": {},
   "outputs": [
    {
     "name": "stdout",
     "output_type": "stream",
     "text": [
      "10\n",
      "[20, 30]\n"
     ]
    }
   ],
   "source": [
    "# 11. pop()\n",
    "my_list = [10, 20, 30]\n",
    "element = my_list.pop(0)\n",
    "print(element)  \n",
    "print(my_list)  \n",
    " # removes and returns the element at the specified index, or the last element if no index is provided."
   ]
  },
  {
   "cell_type": "code",
   "execution_count": 12,
   "id": "9306e7f9",
   "metadata": {},
   "outputs": [
    {
     "name": "stdout",
     "output_type": "stream",
     "text": [
      "[11, 12, 13]\n"
     ]
    }
   ],
   "source": [
    "# 12. sort()\n",
    "my_list = [13, 11, 12]\n",
    "my_list.sort()\n",
    "print(my_list) # sorts the elements in the list in ascending order.\n"
   ]
  },
  {
   "cell_type": "code",
   "execution_count": 18,
   "id": "b381e8f4",
   "metadata": {},
   "outputs": [
    {
     "name": "stdout",
     "output_type": "stream",
     "text": [
      "30\n"
     ]
    }
   ],
   "source": [
    "# 13. count()\n",
    "my_list = [10, 20, 30, 10, 100]\n",
    "count = my_list.count(10)\n",
    "print(count) # returns the number of occurrences of a specified element in the list."
   ]
  }
 ],
 "metadata": {
  "kernelspec": {
   "display_name": "Python 3 (ipykernel)",
   "language": "python",
   "name": "python3"
  },
  "language_info": {
   "codemirror_mode": {
    "name": "ipython",
    "version": 3
   },
   "file_extension": ".py",
   "mimetype": "text/x-python",
   "name": "python",
   "nbconvert_exporter": "python",
   "pygments_lexer": "ipython3",
   "version": "3.10.9"
  }
 },
 "nbformat": 4,
 "nbformat_minor": 5
}
