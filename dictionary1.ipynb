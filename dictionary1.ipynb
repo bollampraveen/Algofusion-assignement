{
 "cells": [
  {
   "cell_type": "code",
   "execution_count": 1,
   "id": "28b90959",
   "metadata": {},
   "outputs": [
    {
     "name": "stdout",
     "output_type": "stream",
     "text": [
      "praveen\n",
      "22\n"
     ]
    }
   ],
   "source": [
    " # 1. get()\n",
    "my_dict = {'name': 'praveen', 'age': 22}\n",
    "name = my_dict.get('name')\n",
    "age = my_dict.get('age')\n",
    "print(name) \n",
    "print(age) # returns the value for a given key in the dictionary."
   ]
  },
  {
   "cell_type": "code",
   "execution_count": 2,
   "id": "8e43a08c",
   "metadata": {},
   "outputs": [
    {
     "name": "stdout",
     "output_type": "stream",
     "text": [
      "praveen\n",
      "{'age': 22}\n"
     ]
    }
   ],
   "source": [
    "# 2. pop()\n",
    "my_dict = {'name': 'praveen', 'age': 22}\n",
    "name = my_dict.pop('name')\n",
    "print(name)\n",
    "print(my_dict) #removes and returns the value for a given key in the dictionary."
   ]
  },
  {
   "cell_type": "code",
   "execution_count": 3,
   "id": "c439e715",
   "metadata": {},
   "outputs": [
    {
     "name": "stdout",
     "output_type": "stream",
     "text": [
      "dict_values(['praveen', 22])\n"
     ]
    }
   ],
   "source": [
    "# 3. values()\n",
    "my_dict = {'name': 'praveen', 'age': 22}\n",
    "values = my_dict.values()\n",
    "print(values)  #returns a view object that contains the values of the dictionary."
   ]
  },
  {
   "cell_type": "code",
   "execution_count": 4,
   "id": "489011ca",
   "metadata": {},
   "outputs": [
    {
     "name": "stdout",
     "output_type": "stream",
     "text": [
      "3\n"
     ]
    }
   ],
   "source": [
    "# 4. len()\n",
    "my_dict = {'name': 'praveen', 'age': 22, 'city': 'india'}\n",
    "length = len(my_dict)\n",
    "print(length)  #returns the number of key-value pairs in the dictionary"
   ]
  },
  {
   "cell_type": "code",
   "execution_count": 5,
   "id": "a1ce59be",
   "metadata": {},
   "outputs": [
    {
     "name": "stdout",
     "output_type": "stream",
     "text": [
      "{}\n"
     ]
    }
   ],
   "source": [
    "# 5. clear()\n",
    "my_dict = {'name': 'praveen', 'age': 22}\n",
    "my_dict.clear()\n",
    "print(my_dict) #  removes all key-value pairs from the dictionary."
   ]
  },
  {
   "cell_type": "code",
   "execution_count": 6,
   "id": "7868d2cf",
   "metadata": {},
   "outputs": [
    {
     "name": "stdout",
     "output_type": "stream",
     "text": [
      "{'name': 'praveen', 'age': 22}\n"
     ]
    }
   ],
   "source": [
    "# 6. copy()\n",
    "my_dict = {'name': 'praveen', 'age': 22}\n",
    "new_dict = my_dict.copy()\n",
    "print(new_dict)  # Output: {'name': 'John', 'age': 30}\n"
   ]
  },
  {
   "cell_type": "code",
   "execution_count": 7,
   "id": "2be622c9",
   "metadata": {},
   "outputs": [
    {
     "name": "stdout",
     "output_type": "stream",
     "text": [
      "{'name': 'praveen', 'country': 'india'}\n"
     ]
    }
   ],
   "source": [
    "# 7. del\n",
    "my_dict = {'name': 'praveen', 'age': 22, 'country' : 'india'}\n",
    "del my_dict['age']\n",
    "print(my_dict) # The del statement removes a key-value pair from the dictionary.\n"
   ]
  },
  {
   "cell_type": "code",
   "execution_count": 8,
   "id": "ca05a751",
   "metadata": {},
   "outputs": [
    {
     "name": "stdout",
     "output_type": "stream",
     "text": [
      "{'name': 'praveen', 'age': 22, 'country': 'india'}\n"
     ]
    }
   ],
   "source": [
    "# 8. update()\n",
    "my_dict = {'name': 'praveen', 'age': 22}\n",
    "new_data = {'country': 'india'}\n",
    "my_dict.update(new_data)\n",
    "print(my_dict)  #updates the dictionary with key-value pairs from another dictionary or an iterable of key-value pairs."
   ]
  },
  {
   "cell_type": "code",
   "execution_count": 9,
   "id": "4c3c8f7c",
   "metadata": {},
   "outputs": [
    {
     "name": "stdout",
     "output_type": "stream",
     "text": [
      "('age', 22)\n",
      "{'name': 'praveen'}\n"
     ]
    }
   ],
   "source": [
    "# 9. popitem()\n",
    "my_dict = {'name': 'praveen', 'age': 22}\n",
    "item = my_dict.popitem()\n",
    "print(item) \n",
    "print(my_dict) #removes and returns the last inserted key-value pair as a tuple.\n"
   ]
  },
  {
   "cell_type": "code",
   "execution_count": 10,
   "id": "d582d571",
   "metadata": {},
   "outputs": [
    {
     "name": "stdout",
     "output_type": "stream",
     "text": [
      "dict_items([('name', 'praveen'), ('age', 22)])\n"
     ]
    }
   ],
   "source": [
    "# 10. items()\n",
    "my_dict = {'name': 'praveen', 'age': 22}\n",
    "items = my_dict.items()\n",
    "print(items)  #  returns the key-value pairs of the dictionary as tuples.\n"
   ]
  },
  {
   "cell_type": "code",
   "execution_count": 11,
   "id": "0ff59354",
   "metadata": {},
   "outputs": [
    {
     "name": "stdout",
     "output_type": "stream",
     "text": [
      "dict_keys(['name', 'age'])\n"
     ]
    }
   ],
   "source": [
    "#11. keys()\n",
    "my_dict = {'name': 'praveen', 'age': 22}\n",
    "keys = my_dict.keys()\n",
    "print(keys)  #returns a view object that contains the keys of the dictionary.\n"
   ]
  }
 ],
 "metadata": {
  "kernelspec": {
   "display_name": "Python 3 (ipykernel)",
   "language": "python",
   "name": "python3"
  },
  "language_info": {
   "codemirror_mode": {
    "name": "ipython",
    "version": 3
   },
   "file_extension": ".py",
   "mimetype": "text/x-python",
   "name": "python",
   "nbconvert_exporter": "python",
   "pygments_lexer": "ipython3",
   "version": "3.10.9"
  }
 },
 "nbformat": 4,
 "nbformat_minor": 5
}
